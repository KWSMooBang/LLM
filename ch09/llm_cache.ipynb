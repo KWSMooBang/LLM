{
 "cells": [
  {
   "cell_type": "markdown",
   "metadata": {},
   "source": [
    "### OpenAI API 캐시 구현"
   ]
  },
  {
   "cell_type": "code",
   "execution_count": null,
   "metadata": {},
   "outputs": [],
   "source": [
    "import os\n",
    "import chromadb\n",
    "from openai import OpenAI\n",
    "\n",
    "os.environ[\"OPENAI_API_KEY\"] = \"Your OpenAI API key\"\n",
    "\n",
    "# 언어 모델과 임베딩 모델을 위한 OpenAI 클라이언트\n",
    "openai_client = OpenAI()\n",
    "# 임베딩 벡터 저장 및 검색을 위한 크로마 벡터 데이터 베이스  클라이언트\n",
    "chroma_client = chromadb.Client()"
   ]
  },
  {
   "cell_type": "code",
   "execution_count": 2,
   "metadata": {},
   "outputs": [
    {
     "name": "stdout",
     "output_type": "stream",
     "text": [
      "질문: 현재 중국에서 신재생에너지 발전 용량이 차지하는 비율은?\n",
      "소요 시간: 2.19s\n",
      "답변: 중국에서 현재 신재생에너지 발전 용량은 전체 발전 용량의 약 25%를 차지하고 있습니다. 이는 중국 정부가 지속가능한 에너지 개발을 촉진하기 위해 신재생에너지 발전을 적극적으로 지원하고 있는 결과입니다.특히 풍력과 태양광 발전이 지속적으로 성장하고 있으며, 중국은 세계에서 가장 많은 신재생에너지 발전 용량을 보유한 국가 중 하나입니다.\n",
      "\n",
      "질문: 현재 중국에서 신재생에너지 발전 용량이 차지하는 비율은?\n",
      "소요 시간: 2.24s\n",
      "답변: 중국에서 신재생에너지 발전 용량은 지속적으로 증가하고 있으며, 현재 중국의 전체 발전 용량 중 약 26%를 차지하고 있습니다.신재생에너지 중에서 특히 태양광과 풍력 발전이 주목을 받고 있으며, 이러한 신재생에너지 발전 용량이 더욱 증가할 것으로 예상되고 있습니다.중국은 온실가스 감축 및 기후변화 대응을 위해 신재생에너지 발전을 적극적으로 추진하고 있습니다.\n",
      "\n"
     ]
    },
    {
     "data": {
      "text/plain": [
       "'\\n질문: 현재 중국에서 신재생에너지 발전 용량이 차지하는 비율은?\\n소요 시간: 1.75s\\n답변: 중국에서 신재생에너지 발전 용량은 현재 전체 발전 용량의 약 30%를 차지하고 있습니다. 최근 중국은 환경 문제와 기후 변화에 대한 대응을 강화하기 위해 신재생에너지 발전을 늘려가고 있습니다.\\n\\n질문: 현재 중국에서 신재생에너지 발전 용량이 차지하는 비율은?\\n소요 시간: 1.85s\\n답변: 중국에서 신재생에너지 발전 용량은 점차 증가하고 있으며, 현재 중국의 전체 발전 용량 중 약 26%를 차지하고 있습니다. 특히 태양 에너지와 풍력 에너지가 매우 빠르게 성장하고 있습니다. 중국 정부는 환경오염 문제를 개선하기 위해 신재생에너지 발전을 적극적으로 지원하고 있습니다. 현재 중국은 세계에서 가장 많은 신재생에너지 발전 용량을 보유한 국가 중 하나로 손꼽히고 있습니다.\\n'"
      ]
     },
     "execution_count": 2,
     "metadata": {},
     "output_type": "execute_result"
    }
   ],
   "source": [
    "import time\n",
    "\n",
    "def response_text(response):\n",
    "    return response.choices[0].message.content\n",
    "\n",
    "question = \"현재 중국에서 신재생에너지 발전 용량이 차지하는 비율은?\"\n",
    "for _ in range(2):\n",
    "    start_time = time.time()\n",
    "    response = openai_client.chat.completions.create(\n",
    "        model='gpt-3.5-turbo',\n",
    "        messages=[\n",
    "            {\n",
    "                'role': 'user',\n",
    "                'content': question\n",
    "            }\n",
    "        ]\n",
    "    )\n",
    "    response = response_text(response)  \n",
    "    print(f\"질문: {question}\")\n",
    "    print(\"소요 시간: {:.2f}s\".format(time.time() - start_time))\n",
    "    print(f\"답변: {response}\\n\")\n",
    "\n",
    "\"\"\"\n",
    "질문: 현재 중국에서 신재생에너지 발전 용량이 차지하는 비율은?\n",
    "소요 시간: 1.75s\n",
    "답변: 중국에서 신재생에너지 발전 용량은 현재 전체 발전 용량의 약 30%를 차지하고 있습니다. 최근 중국은 환경 문제와 기후 변화에 대한 대응을 강화하기 위해 신재생에너지 발전을 늘려가고 있습니다.\n",
    "\n",
    "질문: 현재 중국에서 신재생에너지 발전 용량이 차지하는 비율은?\n",
    "소요 시간: 1.85s\n",
    "답변: 중국에서 신재생에너지 발전 용량은 점차 증가하고 있으며, 현재 중국의 전체 발전 용량 중 약 26%를 차지하고 있습니다. 특히 태양 에너지와 풍력 에너지가 매우 빠르게 성장하고 있습니다. 중국 정부는 환경오염 문제를 개선하기 위해 신재생에너지 발전을 적극적으로 지원하고 있습니다. 현재 중국은 세계에서 가장 많은 신재생에너지 발전 용량을 보유한 국가 중 하나로 손꼽히고 있습니다.\n",
    "\"\"\""
   ]
  },
  {
   "cell_type": "code",
   "execution_count": 5,
   "metadata": {},
   "outputs": [
    {
     "name": "stdout",
     "output_type": "stream",
     "text": [
      "질문: 현재 중국에서 신재생에너지 발전 용량이 차지하는 비율은?\n",
      "소요 시간: 1.21s\n",
      "답변: 2020년 기준으로 중국의 신재생 에너지 발전 용량은 전체 발전 용량 대비 약 27%를 차지하고 있습니다. 이는 중국이 기후 변화 대응을 위해 신재생 에너지 발전을 적극적으로 확대하고 있는 결과로 볼 수 있습니다.\n",
      "\n",
      "질문: 현재 중국에서 신재생에너지 발전 용량이 차지하는 비율은?\n",
      "소요 시간: 0.00s\n",
      "답변: 2020년 기준으로 중국의 신재생 에너지 발전 용량은 전체 발전 용량 대비 약 27%를 차지하고 있습니다. 이는 중국이 기후 변화 대응을 위해 신재생 에너지 발전을 적극적으로 확대하고 있는 결과로 볼 수 있습니다.\n",
      "\n"
     ]
    }
   ],
   "source": [
    "class OpenAICache:\n",
    "    def __init__(self, openai_client):\n",
    "        self.openai_client = openai_client\n",
    "        self.cache = {}\n",
    "\n",
    "    def generate(self, prompt):\n",
    "        if prompt not in self.cache:\n",
    "            response = self.openai_client.chat.completions.create(\n",
    "                model='gpt-3.5-turbo',\n",
    "                messages=[\n",
    "                    {\n",
    "                        'role': 'user',\n",
    "                        'content': prompt\n",
    "                    }\n",
    "                ]\n",
    "            )\n",
    "            self.cache[prompt] = response_text(response)\n",
    "        return self.cache[prompt]\n",
    "    \n",
    "openai_cache = OpenAICache(openai_client)\n",
    "\n",
    "question = \"현재 중국에서 신재생에너지 발전 용량이 차지하는 비율은?\"\n",
    "for _ in range(2):\n",
    "    start_time = time.time()\n",
    "    \n",
    "    response = openai_cache.generate(question)\n",
    "\n",
    "    print(f\"질문: {question}\")\n",
    "    print(\"소요 시간: {:.2f}s\".format(time.time() - start_time))\n",
    "    print(f\"답변: {response}\\n\")"
   ]
  },
  {
   "cell_type": "code",
   "execution_count": 5,
   "metadata": {},
   "outputs": [],
   "source": [
    "class OpenAICache:\n",
    "    def __init__(self, openai_client, semantic_cache):\n",
    "        self.openai_client = openai_client\n",
    "        self.cache = {}\n",
    "        self.semantic_cache = semantic_cache\n",
    "\n",
    "    def generate(self, prompt):\n",
    "        if prompt not in self.cache:\n",
    "            similar_doc = self.semantic_cache.query(query_texts=[prompt], n_results=1)\n",
    "            if len(similar_doc['distances'][0]) > 0 and similar_doc['distances'][0][0] < 0.2:\n",
    "                return similar_doc['metadatas'][0][0]['response']\n",
    "            else:\n",
    "                response = self.openai_client.chat.completions.create(\n",
    "                    model='gpt-3.5-turbo',\n",
    "                    messages=[\n",
    "                        {\n",
    "                            'role': 'user',\n",
    "                            'content': prompt\n",
    "                        }\n",
    "                    ]\n",
    "                )\n",
    "                self.cache[prompt] = response_text(response)\n",
    "                self.semantic_cache.add(documents=[prompt],\n",
    "                                        metadatas=[{'response': response_text(response)}], ids=[prompt])\n",
    "        return self.cache[prompt]"
   ]
  },
  {
   "cell_type": "code",
   "execution_count": 11,
   "metadata": {},
   "outputs": [
    {
     "name": "stdout",
     "output_type": "stream",
     "text": [
      "질문: 현재 중국에서 신재생에너지 발전 용량이 차지하는 비율은?\n",
      "소요 시간: 2.80s\n",
      "답변: 중국에서 신재생에너지 발전 용량은 지속적으로 증가하고 있으며, 2021년 기준으로 중국의 전체 발전 용량 중 약 30% 정도를 신재생에너지가 차지하고 있습니다. 특히 태양광 발전 및 풍력 발전이 많이 확대되고 있습니다.\n",
      "\n",
      "질문: 현재 중국에서 신재생에너지 발전 용량이 차지하는 비율은?\n",
      "소요 시간: 0.00s\n",
      "답변: 중국에서 신재생에너지 발전 용량은 지속적으로 증가하고 있으며, 2021년 기준으로 중국의 전체 발전 용량 중 약 30% 정도를 신재생에너지가 차지하고 있습니다. 특히 태양광 발전 및 풍력 발전이 많이 확대되고 있습니다.\n",
      "\n",
      "질문: 현재 신재생에너지 발전 용량이 중국에서 차지하는 비율은?\n",
      "소요 시간: 0.39s\n",
      "답변: 중국에서 신재생에너지 발전 용량은 지속적으로 증가하고 있으며, 2021년 기준으로 중국의 전체 발전 용량 중 약 30% 정도를 신재생에너지가 차지하고 있습니다. 특히 태양광 발전 및 풍력 발전이 많이 확대되고 있습니다.\n",
      "\n",
      "질문: 중국에서 신재생에너지 발전 용량이 차지하는 비율은?\n",
      "소요 시간: 0.40s\n",
      "답변: 중국에서 신재생에너지 발전 용량은 지속적으로 증가하고 있으며, 2021년 기준으로 중국의 전체 발전 용량 중 약 30% 정도를 신재생에너지가 차지하고 있습니다. 특히 태양광 발전 및 풍력 발전이 많이 확대되고 있습니다.\n",
      "\n"
     ]
    }
   ],
   "source": [
    "from chromadb.utils.embedding_functions import OpenAIEmbeddingFunction\n",
    "\n",
    "# 임베딩 모델\n",
    "openai_ef = OpenAIEmbeddingFunction(\n",
    "    api_key=os.environ[\"OPENAI_API_KEY\"],\n",
    "    model_name=\"text-embedding-ada-002\"\n",
    ")\n",
    "# 크로마 DB 컬렉션 생성\n",
    "semantic_cache = chroma_client.create_collection(name=\"semantic_cache\",\n",
    "                                                 embedding_function=openai_ef, metadata={\"hnsw:space\": \"cosine\"})\n",
    "\n",
    "openai_cache = OpenAICache(openai_client, semantic_cache)\n",
    "\n",
    "questions = [\n",
    "    \"현재 중국에서 신재생에너지 발전 용량이 차지하는 비율은?\",\n",
    "    \"현재 중국에서 신재생에너지 발전 용량이 차지하는 비율은?\",\n",
    "    \"현재 신재생에너지 발전 용량이 중국에서 차지하는 비율은?\",\n",
    "    \"중국에서 신재생에너지 발전 용량이 차지하는 비율은?\"\n",
    "]\n",
    "for question in questions:\n",
    "    start_time = time.time()\n",
    "    response = openai_cache.generate(question)\n",
    "    print(f\"질문: {question}\")\n",
    "    print(\"소요 시간: {:.2f}s\".format(time.time() - start_time))\n",
    "    print(f\"답변: {response}\\n\")"
   ]
  }
 ],
 "metadata": {
  "kernelspec": {
   "display_name": "deep_learning",
   "language": "python",
   "name": "python3"
  },
  "language_info": {
   "codemirror_mode": {
    "name": "ipython",
    "version": 3
   },
   "file_extension": ".py",
   "mimetype": "text/x-python",
   "name": "python",
   "nbconvert_exporter": "python",
   "pygments_lexer": "ipython3",
   "version": "3.9.20"
  }
 },
 "nbformat": 4,
 "nbformat_minor": 2
}
