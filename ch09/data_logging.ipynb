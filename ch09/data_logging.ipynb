{
 "cells": [
  {
   "cell_type": "markdown",
   "metadata": {},
   "source": [
    "### 데이터 로깅 실습하기"
   ]
  },
  {
   "cell_type": "code",
   "execution_count": 1,
   "metadata": {},
   "outputs": [
    {
     "name": "stderr",
     "output_type": "stream",
     "text": [
      "Failed to detect the name of this notebook, you can set it manually with the WANDB_NOTEBOOK_NAME environment variable to enable code saving.\n",
      "\u001b[34m\u001b[1mwandb\u001b[0m: Currently logged in as: \u001b[33m40kimwoosung\u001b[0m (\u001b[33m40kimwoosung-seoul-national-university\u001b[0m). Use \u001b[1m`wandb login --relogin`\u001b[0m to force relogin\n"
     ]
    },
    {
     "data": {
      "text/html": [
       "wandb version 0.19.0 is available!  To upgrade, please run:\n",
       " $ pip install wandb --upgrade"
      ],
      "text/plain": [
       "<IPython.core.display.HTML object>"
      ]
     },
     "metadata": {},
     "output_type": "display_data"
    },
    {
     "data": {
      "text/html": [
       "Tracking run with wandb version 0.16.6"
      ],
      "text/plain": [
       "<IPython.core.display.HTML object>"
      ]
     },
     "metadata": {},
     "output_type": "display_data"
    },
    {
     "data": {
      "text/html": [
       "Run data is saved locally in <code>/home/woosungkim/projects/deep_learning/textbook/LLM/ch09/wandb/run-20241205_211755-mwggq2pm</code>"
      ],
      "text/plain": [
       "<IPython.core.display.HTML object>"
      ]
     },
     "metadata": {},
     "output_type": "display_data"
    },
    {
     "data": {
      "text/html": [
       "Syncing run <strong><a href='https://wandb.ai/40kimwoosung-seoul-national-university/trace-example/runs/mwggq2pm' target=\"_blank\">copper-plant-1</a></strong> to <a href='https://wandb.ai/40kimwoosung-seoul-national-university/trace-example' target=\"_blank\">Weights & Biases</a> (<a href='https://wandb.me/run' target=\"_blank\">docs</a>)<br/>"
      ],
      "text/plain": [
       "<IPython.core.display.HTML object>"
      ]
     },
     "metadata": {},
     "output_type": "display_data"
    },
    {
     "data": {
      "text/html": [
       " View project at <a href='https://wandb.ai/40kimwoosung-seoul-national-university/trace-example' target=\"_blank\">https://wandb.ai/40kimwoosung-seoul-national-university/trace-example</a>"
      ],
      "text/plain": [
       "<IPython.core.display.HTML object>"
      ]
     },
     "metadata": {},
     "output_type": "display_data"
    },
    {
     "data": {
      "text/html": [
       " View run at <a href='https://wandb.ai/40kimwoosung-seoul-national-university/trace-example/runs/mwggq2pm' target=\"_blank\">https://wandb.ai/40kimwoosung-seoul-national-university/trace-example/runs/mwggq2pm</a>"
      ],
      "text/plain": [
       "<IPython.core.display.HTML object>"
      ]
     },
     "metadata": {},
     "output_type": "display_data"
    },
    {
     "data": {
      "text/html": [
       "<button onClick=\"this.nextSibling.style.display='block';this.style.display='none';\">Display W&B run</button><iframe src='https://wandb.ai/40kimwoosung-seoul-national-university/trace-example/runs/mwggq2pm?jupyter=true' style='border:none;width:100%;height:420px;display:none;'></iframe>"
      ],
      "text/plain": [
       "<wandb.sdk.wandb_run.Run at 0x7fc5f96778b0>"
      ]
     },
     "execution_count": 1,
     "metadata": {},
     "output_type": "execute_result"
    }
   ],
   "source": [
    "import os\n",
    "import wandb\n",
    "\n",
    "wandb.login()\n",
    "wandb.init(project=\"trace-example\")"
   ]
  },
  {
   "cell_type": "code",
   "execution_count": null,
   "metadata": {},
   "outputs": [],
   "source": [
    "import datetime\n",
    "from openai import OpenAI\n",
    "from wandb.sdk.data_types.trace_tree import Trace\n",
    "\n",
    "os.environ[\"OPENAI_API_KEY\"] = \"Your OpenAI API key\"\n",
    "\n",
    "system_message = \"You are a helpful assistant.\"\n",
    "query = \"대한민국의 수도는 어디야?\"\n",
    "\n",
    "temperature = 0.2\n",
    "model_name = 'gpt-3.5-turbo'\n",
    "\n",
    "response = client.chat.completions.create(\n",
    "    model=model_name,\n",
    "    messages=[\n",
    "        {\n",
    "            'role': 'system',\n",
    "            'content': system_message,\n",
    "        },\n",
    "        {\n",
    "            'role': 'user',\n",
    "            'content': query\n",
    "        }\n",
    "    ],\n",
    "    temperature=temperature\n",
    ")\n",
    "\n",
    "root_span = Trace(\n",
    "    name='root_span',\n",
    "    kind='llm',\n",
    "    status_code='success',\n",
    "    status_message=None,\n",
    "    metadata={\n",
    "        'temperature': temperature,\n",
    "        'token_usage': dict(response.usage),\n",
    "        'model_name': model_name\n",
    "    },\n",
    "    inputs={\n",
    "        'system_prompt': system_message,\n",
    "        'query': query\n",
    "    },\n",
    "    outputs={\n",
    "        'response': response.choices[0].message.content\n",
    "    },\n",
    ")\n",
    "\n",
    "root_span.log(name='openai_trace')"
   ]
  },
  {
   "cell_type": "code",
   "execution_count": null,
   "metadata": {},
   "outputs": [
    {
     "name": "stderr",
     "output_type": "stream",
     "text": [
      "\u001b[34m\u001b[1mwandb\u001b[0m: Logged trace tree to W&B.\n"
     ]
    },
    {
     "name": "stdout",
     "output_type": "stream",
     "text": [
      "북태평양 기단과 오호츠크해 기단이 만나 국내에 머무르는 기간은?\n"
     ]
    },
    {
     "name": "stderr",
     "output_type": "stream",
     "text": [
      "\u001b[34m\u001b[1mwandb\u001b[0m: Logged trace tree to W&B.\n"
     ]
    }
   ],
   "source": [
    "from datasets import load_dataset\n",
    "import llama_index\n",
    "from llama_index.core import Document, VectorStoreIndex, Settings\n",
    "from llama_index.llms.openai import OpenAI\n",
    "from llama_index.core import set_global_handler\n",
    "\n",
    "# 로깅을 위한 설정 추가\n",
    "llm = OpenAI(model='gpt-3.5-turbo', temperature=0)\n",
    "set_global_handler('wandb', run_args={'project': 'llamaindex'})\n",
    "wandb_callback = llama_index.core.global_handler\n",
    "Settings.llm = llm\n",
    "\n",
    "dataset = load_dataset('klue', 'mrc', split='train')\n",
    "text_list = dataset[:100]['context']\n",
    "documents = [Document(text=text) for text in text_list]\n",
    "\n",
    "index = VectorStoreIndex.from_documents(documents)\n",
    "\n",
    "print(dataset[0]['question']) \n",
    "\n",
    "query_engine = index.as_query_engine(llm=llm, similarity_top_k=1, verbose=True)\n",
    "response = query_engine.query(\n",
    "    dataset[0]['question']\n",
    ")"
   ]
  },
  {
   "cell_type": "code",
   "execution_count": null,
   "metadata": {},
   "outputs": [],
   "source": []
  }
 ],
 "metadata": {
  "kernelspec": {
   "display_name": "deep_learning",
   "language": "python",
   "name": "python3"
  },
  "language_info": {
   "codemirror_mode": {
    "name": "ipython",
    "version": 3
   },
   "file_extension": ".py",
   "mimetype": "text/x-python",
   "name": "python",
   "nbconvert_exporter": "python",
   "pygments_lexer": "ipython3",
   "version": "3.9.20"
  }
 },
 "nbformat": 4,
 "nbformat_minor": 2
}
